{
 "cells": [
  {
   "cell_type": "markdown",
   "metadata": {},
   "source": [
    "# Implementing a GPT Model From the Scratch"
   ]
  },
  {
   "cell_type": "markdown",
   "metadata": {},
   "source": [
    "This chapter focuses on implementing the LLM architecture"
   ]
  },
  {
   "cell_type": "markdown",
   "metadata": {
    "vscode": {
     "languageId": "plaintext"
    }
   },
   "source": [
    "### We would cover the following:\n",
    "* Coding a GPT-like LLM that can be trained to generate text\n",
    "* Normalizing layer activations to stabilize neural network training\n",
    "* Adding shortcut connections in deep neural networks\n",
    "* Implementing transformer blocks to create GPT models\n",
    "* Computing number of parameters and storage requirements"
   ]
  },
  {
   "cell_type": "markdown",
   "metadata": {},
   "source": []
  }
 ],
 "metadata": {
  "language_info": {
   "name": "python"
  }
 },
 "nbformat": 4,
 "nbformat_minor": 2
}
