{
 "cells": [
  {
   "cell_type": "markdown",
   "metadata": {},
   "source": [
    "# Implementing a GPT Model From the Scratch"
   ]
  },
  {
   "cell_type": "markdown",
   "metadata": {},
   "source": [
    "This chapter focuses on implementing the LLM architecture"
   ]
  },
  {
   "cell_type": "markdown",
   "metadata": {
    "vscode": {
     "languageId": "plaintext"
    }
   },
   "source": [
    "### We would cover the following:\n",
    "* Coding a GPT-like LLM that can be trained to generate text\n",
    "* Normalizing layer activations to stabilize neural network training\n",
    "* Adding shortcut connections in deep neural networks\n",
    "* Implementing transformer blocks to create GPT models\n",
    "* Computing number of parameters and storage requirements"
   ]
  },
  {
   "cell_type": "code",
   "execution_count": 1,
   "metadata": {},
   "outputs": [],
   "source": [
    "# GPT 2 Model Configuration\n",
    "GPT_CONFIG_124M = {\n",
    "    \"vocab_size\": 50257,        # Vocabulary Size\n",
    "    \"context_length\": 1024,     # Context length - number of tokens in an input stream\n",
    "    \"embedding_dim\": 768,             # Embedding Dimension - each token is transformed into a 768-dimensional vector\n",
    "    \"h_heads\": 12,              # Number of attention heads - the cound of attention heads in the multi-head attentoin\n",
    "    \"n_layers\": 12,             # NUmber of layers - number of transformer blocks in the model\n",
    "    \"dropout_rate\": 0.1,           # Dropout rate of 10%\n",
    "    \"qkv_bias\": False           # Query-Key-Value bias - whether to include a bias vector in the Linear layer of the multi-head attention for the query, key and value computation\n",
    "}"
   ]
  },
  {
   "cell_type": "markdown",
   "metadata": {},
   "source": [
    "**DummyGTPModel class** \\\n",
    "We first define a DummyGPTModel class which would be a simplified version of a GPT-like model. It would have the following fields:\n",
    "* token embedding\n",
    "* positional embedding\n",
    "* dropout embedding\n",
    "* series of transformer blocks\n",
    "* a final normaliztion layer\n",
    "* a linear output layer \\\n",
    "We pass the configuration via the model configuration dictionary \\\n",
    "\\\n",
    "\n",
    "The **forward** method describes data flow through the model:\n",
    "* it computes the token and positional embeddings for the input indeices\n",
    "* applies dropout\n",
    "* processed data through the tranformer blocks\n",
    "* applies normalization\n",
    "* finally produces logits with the linear output layer\n",
    "\n",
    "### Note\n",
    "* In the DummyGPT class, the token embedding is handled inside the GPT model\n",
    "* In LLMs, the embedded input token dimensions typically matches the output dimensions\n",
    "* The output embeddings here represents the context vector\n",
    "\n",
    "### Implementation\n",
    "To implement these steps, we first tokenize a batch consisting of two text inputs for the GPT model using tiktoken \\\n",
    "Next, we initialize a DummyGPT model of 124M paramters and feed it the tokenized batch"
   ]
  },
  {
   "cell_type": "code",
   "execution_count": 2,
   "metadata": {},
   "outputs": [
    {
     "name": "stdout",
     "output_type": "stream",
     "text": [
      "tensor([[6109, 3626, 6100,  345],\n",
      "        [6109, 1110, 6622,  257]])\n"
     ]
    }
   ],
   "source": [
    "# we tokenize a batch consisting of two text inputs for the GPT model using tiktoken\n",
    "import tiktoken\n",
    "import torch\n",
    "from utilities.GPTModels import DummyGPTModel\n",
    "\n",
    "tokenizer = tiktoken.get_encoding('gpt2')\n",
    "batch = []\n",
    "text1 = 'Every effort moves you'\n",
    "text2 = 'Every day holds a'\n",
    "\n",
    "batch.append(torch.tensor(tokenizer.encode(text1)))\n",
    "batch.append(torch.tensor(tokenizer.encode(text2)))\n",
    "batch = torch.stack(batch, dim=0)\n",
    "print(batch)"
   ]
  },
  {
   "cell_type": "code",
   "execution_count": 3,
   "metadata": {},
   "outputs": [
    {
     "name": "stdout",
     "output_type": "stream",
     "text": [
      "Output shape: torch.Size([2, 4, 50257])\n",
      "tensor([[[-0.9289,  0.2748, -0.7557,  ..., -1.6070,  0.2702, -0.5888],\n",
      "         [-0.4476,  0.1726,  0.5354,  ..., -0.3932,  1.5285,  0.8557],\n",
      "         [ 0.5680,  1.6053, -0.2155,  ...,  1.1624,  0.1380,  0.7425],\n",
      "         [ 0.0447,  2.4787, -0.8843,  ...,  1.3219, -0.0864, -0.5856]],\n",
      "\n",
      "        [[-1.5474, -0.0542, -1.0571,  ..., -1.8061, -0.4494, -0.6747],\n",
      "         [-0.8422,  0.8243, -0.1098,  ..., -0.1434,  0.2079,  1.2046],\n",
      "         [ 0.1355,  1.1858, -0.1453,  ...,  0.0869, -0.1590,  0.1552],\n",
      "         [ 0.1666, -0.8138,  0.2307,  ...,  2.5035, -0.3055, -0.3083]]],\n",
      "       grad_fn=<UnsafeViewBackward0>)\n"
     ]
    }
   ],
   "source": [
    "# we initialize a DummyGPT model of 124M paramters and feed it the tokenized batch\n",
    "torch.manual_seed(123)\n",
    "model = DummyGPTModel(GPT_CONFIG_124M)\n",
    "logits = model(batch)\n",
    "print('Output shape:', logits.shape)\n",
    "print(logits)"
   ]
  },
  {
   "cell_type": "markdown",
   "metadata": {},
   "source": [
    "The output tensor has two rows corresponding to the two text samples.\n",
    "Each text sample consists of four tokens where each token is a 50257-dimensional vector."
   ]
  }
 ],
 "metadata": {
  "kernelspec": {
   "display_name": ".venv",
   "language": "python",
   "name": "python3"
  },
  "language_info": {
   "codemirror_mode": {
    "name": "ipython",
    "version": 3
   },
   "file_extension": ".py",
   "mimetype": "text/x-python",
   "name": "python",
   "nbconvert_exporter": "python",
   "pygments_lexer": "ipython3",
   "version": "3.8.5"
  }
 },
 "nbformat": 4,
 "nbformat_minor": 2
}
