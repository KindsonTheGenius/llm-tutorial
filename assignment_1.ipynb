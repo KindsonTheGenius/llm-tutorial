{
 "cells": [
  {
   "cell_type": "markdown",
   "id": "edd416ee-db39-4e3d-9a22-259871d24499",
   "metadata": {},
   "source": [
    "### Weight Matrices Transfer from v2 to v1\n",
    "You will need to transfer the weight matrices from and intance of SelftAttention_v2 to an instance of SelfAttention_v1 such that they produce the same results. \\\n",
    "To achieve this, you need to understand the relationship between the weights in both versions.\\\n",
    "**Hint**: nn.Linear stores the weight matrix in a transposed form."
   ]
  },
  {
   "cell_type": "code",
   "execution_count": null,
   "id": "1ba52cd6-a851-48a5-a82c-ae3f650c1c7d",
   "metadata": {},
   "outputs": [],
   "source": []
  }
 ],
 "metadata": {
  "kernelspec": {
   "display_name": "Python 3 (ipykernel)",
   "language": "python",
   "name": "python3"
  },
  "language_info": {
   "codemirror_mode": {
    "name": "ipython",
    "version": 3
   },
   "file_extension": ".py",
   "mimetype": "text/x-python",
   "name": "python",
   "nbconvert_exporter": "python",
   "pygments_lexer": "ipython3",
   "version": "3.8.5"
  }
 },
 "nbformat": 4,
 "nbformat_minor": 5
}
