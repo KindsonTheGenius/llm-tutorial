{
 "cells": [
  {
   "cell_type": "markdown",
   "id": "1a3635af-50c2-4e80-a53a-b90d64208d0c",
   "metadata": {},
   "source": [
    "* Stage 1\n",
    "    * 1. Data preparation and sampling\n",
    "    * 2. Attemtion mechanism\n",
    "    * 3. LLM Architecture\n",
    "4. Pre-training\n",
    "* Stage 2\n",
    "    * 5. Training Loop\n",
    "    * 6. Model evaluation\n",
    "    * 7. Load pre-trained weights\n",
    "5. Fine-tuning\n",
    "* Stage 3\n",
    "    * 8. Classifier\n",
    "    * 9. Personal Assistant"
   ]
  },
  {
   "cell_type": "markdown",
   "id": "78d52925-3bf3-4c9f-bb63-54279e4b8276",
   "metadata": {},
   "source": [
    "## 2.1 Tokenizing Text"
   ]
  },
  {
   "cell_type": "code",
   "execution_count": 3,
   "id": "d2d1539a-27ce-4b03-996c-19d2bf2d8d27",
   "metadata": {},
   "outputs": [],
   "source": [
    "# Open the The Verdict in Python\n",
    "with open(\"the-verdict.txt\", \"r\", encoding=\"utf-8\") as file:\n",
    "    raw_text = file.read()\n",
    "#print(\"Total numbe of charater:\", len(raw_text))\n",
    "#print(raw_text[:99])"
   ]
  },
  {
   "cell_type": "code",
   "execution_count": 4,
   "id": "bb4ab9df-5a0f-4741-812e-270ab57cc203",
   "metadata": {},
   "outputs": [
    {
     "data": {
      "text/plain": [
       "('the-verdict2.txt', <http.client.HTTPMessage at 0x1f1bc2a0d40>)"
      ]
     },
     "execution_count": 4,
     "metadata": {},
     "output_type": "execute_result"
    }
   ],
   "source": [
    "# Download a file from a url\n",
    "import urllib.request\n",
    "url = (\"https://raw.githubusercontent.com/rasbt/\"\n",
    "       \"LLMs-from-scratch/main/ch02/01_main-chapter-code/\"\n",
    "       \"the-verdict.txt\")\n",
    "file_path = \"the-verdict2.txt\"\n",
    "urllib.request.urlretrieve(url, file_path)"
   ]
  },
  {
   "cell_type": "code",
   "execution_count": 5,
   "id": "b1c2c87b-da18-47d2-887e-36f7eaaca366",
   "metadata": {},
   "outputs": [],
   "source": [
    "# Open the The Verdict in Python\n",
    "with open(\"the-verdict2.txt\", \"r\", encoding=\"utf-8\") as file:\n",
    "    raw_text = file.read()"
   ]
  },
  {
   "cell_type": "code",
   "execution_count": 18,
   "id": "bf9d5206-7aa4-41a5-bbe1-7bff9f07cdac",
   "metadata": {},
   "outputs": [
    {
     "name": "stdout",
     "output_type": "stream",
     "text": [
      "['Good', ',', ' morning', '!', ' We are bulding', ',', ' out own llm', '.']\n"
     ]
    }
   ],
   "source": [
    "# Split the text using regular expression\n",
    "import re\n",
    "input_text = 'Good, morning! We are bulding, out own llm.'\n",
    "result = re.split(r'([,.:;?!_\"()\\']|--\\s)', input_text) # split takes 2 parameters: the re pattern and the text\n",
    "result = [res for res in result if res.strip()]\n",
    "print(result)"
   ]
  },
  {
   "cell_type": "code",
   "execution_count": 6,
   "id": "75acae10-c75c-495b-80cc-4b328241eec8",
   "metadata": {},
   "outputs": [
    {
     "name": "stdout",
     "output_type": "stream",
     "text": [
      "4690\n"
     ]
    }
   ],
   "source": [
    "import re\n",
    "preprocessed = re.split(r'([,.:;?!_\"()\\']|--|\\s)', raw_text)\n",
    "preprocessed = [res for res in preprocessed if res.strip()]\n",
    "print(len(preprocessed))"
   ]
  },
  {
   "cell_type": "code",
   "execution_count": 7,
   "id": "dd8bc0fc-5337-49e3-8fc2-85680b604986",
   "metadata": {},
   "outputs": [
    {
     "name": "stdout",
     "output_type": "stream",
     "text": [
      "['I', 'HAD', 'always', 'thought', 'Jack', 'Gisburn', 'rather', 'a', 'cheap', 'genius', '--', 'though', 'a', 'good', 'fellow', 'enough', '--', 'so', 'it', 'was', 'no', 'great', 'surprise', 'to', 'me', 'to', 'hear', 'that', ',', 'in']\n"
     ]
    }
   ],
   "source": [
    "print(preprocessed[:30])"
   ]
  },
  {
   "cell_type": "markdown",
   "id": "0f55ea24-afc1-4e13-99ab-48bc9a4a00f1",
   "metadata": {},
   "source": [
    "## 2.2 Convert Token into Token IDs\n",
    "## 2.3 Adding Special Context to Tokens\n",
    "We would need to first build a vocabulary"
   ]
  },
  {
   "cell_type": "code",
   "execution_count": 8,
   "id": "28b46a26-2ca4-416a-8fee-19859f37e587",
   "metadata": {},
   "outputs": [
    {
     "name": "stdout",
     "output_type": "stream",
     "text": [
      "1132\n"
     ]
    }
   ],
   "source": [
    "# Create and populate a vocab dictionary\n",
    "tokens_clean_sorted = sorted(list(set(preprocessed)))\n",
    "tokens_clean_sorted.extend([\"<|endoftext|>\", \"<|unk|>\"])\n",
    "vocab ={item:index for index, item in enumerate(tokens_clean_sorted)}\n",
    "print(len(vocab.items()))"
   ]
  },
  {
   "cell_type": "code",
   "execution_count": 46,
   "id": "d22538f5-660c-49d3-a68c-6433c4bda555",
   "metadata": {},
   "outputs": [
    {
     "name": "stdout",
     "output_type": "stream",
     "text": [
      "('younger', 1127)\n",
      "('your', 1128)\n",
      "('yourself', 1129)\n",
      "('<|endoftext|>', 1130)\n",
      "('<|unk|>', 1131)\n"
     ]
    }
   ],
   "source": [
    "for i, item in enumerate(list(vocab.items())[-5:]):\n",
    "    print(item)"
   ]
  },
  {
   "cell_type": "markdown",
   "id": "e6d30318-e8db-4724-b13e-997124ad3ae9",
   "metadata": {
    "editable": true,
    "slideshow": {
     "slide_type": ""
    },
    "tags": []
   },
   "source": [
    "## Create a Tokenizer to encode and decode text using the Vocabulary\n",
    "* Encode - Convert text to token ids\n",
    "* Decode - Convert token ids to text"
   ]
  },
  {
   "cell_type": "code",
   "execution_count": 14,
   "id": "e169cf45-4e92-439a-a2ca-999c1ad1b51b",
   "metadata": {},
   "outputs": [
    {
     "name": "stdout",
     "output_type": "stream",
     "text": [
      "[93, 538, 722, 549, 496, 1, 6, 987, 1077, 1089, 988, 1112, 242, 585, 7, 53, 244, 535, 67, 7, 37, 100, 6, 549, 602, 25, 897, 6, 326, 549, 1042, 116, 7]\n"
     ]
    }
   ],
   "source": [
    "from Tokenizer import TokenizerV1\n",
    "tokenizer = TokenizerV1(vocab)\n",
    "text = \"\"\"\n",
    "The height of his glory\"--that was what the women called it. \n",
    "I can hear Mrs. Gideon Thwing--his last Chicago sitter--deploring his unaccountable abdication.\n",
    "\"\"\"\n",
    "ids = tokenizer.encode(text)\n",
    "print(ids)"
   ]
  },
  {
   "cell_type": "code",
   "execution_count": 10,
   "id": "c36b890d-7d5e-4f52-8cb2-cdcce4152f2b",
   "metadata": {},
   "outputs": [
    {
     "name": "stdout",
     "output_type": "stream",
     "text": [
      "The height of his glory\" -- that was what the women called it. I can hear Mrs. Gideon Thwing -- his last Chicago sitter -- deploring his unaccountable abdication.\n"
     ]
    }
   ],
   "source": [
    "print(tokenizer.decode(ids))"
   ]
  },
  {
   "cell_type": "code",
   "execution_count": 19,
   "id": "335073c3-c124-4227-904b-4e0602b36099",
   "metadata": {},
   "outputs": [
    {
     "name": "stdout",
     "output_type": "stream",
     "text": [
      "Hello, do you like tea? <|endoftext|> In the sunlit terraces of the palace.\n"
     ]
    }
   ],
   "source": [
    "## Handling Unkown Words\n",
    "text1 = \"Hello, do you like tea?\"\n",
    "text2 = \"In the sunlit terraces of the palace.\"\n",
    "text = \" <|endoftext|> \".join((text1, text2))\n",
    "print(text)"
   ]
  },
  {
   "cell_type": "code",
   "execution_count": 20,
   "id": "7769f45d-8c74-44de-a6e1-c4002e0f1393",
   "metadata": {
    "scrolled": true
   },
   "outputs": [
    {
     "name": "stdout",
     "output_type": "stream",
     "text": [
      "('!', 0)\n",
      "('\"', 1)\n",
      "(\"'\", 2)\n",
      "('(', 3)\n",
      "(')', 4)\n",
      "(',', 5)\n",
      "('--', 6)\n",
      "('.', 7)\n",
      "(':', 8)\n",
      "(';', 9)\n",
      "('?', 10)\n",
      "('A', 11)\n",
      "('Ah', 12)\n",
      "('Among', 13)\n",
      "('And', 14)\n",
      "('Are', 15)\n",
      "('Arrt', 16)\n",
      "('As', 17)\n",
      "('At', 18)\n",
      "('Be', 19)\n",
      "('Begin', 20)\n",
      "('Burlington', 21)\n",
      "('But', 22)\n",
      "('By', 23)\n",
      "('Carlo', 24)\n",
      "('Chicago', 25)\n",
      "('Claude', 26)\n",
      "('Come', 27)\n",
      "('Croft', 28)\n",
      "('Destroyed', 29)\n",
      "('Devonshire', 30)\n",
      "('Don', 31)\n",
      "('Dubarry', 32)\n",
      "('Emperors', 33)\n",
      "('Florence', 34)\n",
      "('For', 35)\n",
      "('Gallery', 36)\n",
      "('Gideon', 37)\n",
      "('Gisburn', 38)\n",
      "('Gisburns', 39)\n",
      "('Grafton', 40)\n",
      "('Greek', 41)\n",
      "('Grindle', 42)\n",
      "('Grindles', 43)\n",
      "('HAD', 44)\n",
      "('Had', 45)\n",
      "('Hang', 46)\n",
      "('Has', 47)\n",
      "('He', 48)\n",
      "('Her', 49)\n",
      "('Hermia', 50)\n"
     ]
    }
   ],
   "source": [
    "for index, value in enumerate(vocab.items()):\n",
    "    print(value)\n",
    "    if index >= 50:\n",
    "        break"
   ]
  },
  {
   "cell_type": "code",
   "execution_count": 21,
   "id": "a8816296-7b32-47d7-97e0-8fdcfee8e5f3",
   "metadata": {},
   "outputs": [
    {
     "name": "stdout",
     "output_type": "stream",
     "text": [
      "[1131, 5, 355, 1126, 628, 975, 10, 1130, 55, 988, 956, 984, 722, 988, 1131, 7]\n"
     ]
    }
   ],
   "source": [
    "ids = tokenizer.encode(text)\n",
    "print(ids)"
   ]
  },
  {
   "cell_type": "code",
   "execution_count": 22,
   "id": "4e105350-83da-4a9b-b590-b00d41dd0f84",
   "metadata": {},
   "outputs": [
    {
     "name": "stdout",
     "output_type": "stream",
     "text": [
      "<|unk|>, do you like tea? <|endoftext|> In the sunlit terraces of the <|unk|>.\n"
     ]
    }
   ],
   "source": [
    "print(tokenizer.decode(ids))"
   ]
  },
  {
   "cell_type": "markdown",
   "id": "658f9530-5694-4d03-8f0c-b7c068f20314",
   "metadata": {},
   "source": [
    "## 2.4 Byte Pair Encoding (BPE)"
   ]
  },
  {
   "cell_type": "code",
   "execution_count": 23,
   "id": "caf27ed0-17b1-454a-8711-ba9791e4d012",
   "metadata": {},
   "outputs": [
    {
     "name": "stdout",
     "output_type": "stream",
     "text": [
      "tiktoken version: 0.8.0\n"
     ]
    }
   ],
   "source": [
    "from importlib.metadata import version\n",
    "import tiktoken\n",
    "print(\"tiktoken version:\", version(\"tiktoken\"))"
   ]
  },
  {
   "cell_type": "code",
   "execution_count": null,
   "id": "de4a7d1e-1f78-4dd8-9065-c06157cd5874",
   "metadata": {},
   "outputs": [],
   "source": [
    "tokenizer = tiktoken.get_encoding(\"gpt2\")\n",
    "text = (\"Hello, do you like tea? <|endoftext|> In the sunlit terraces\"\n",
    "        \"of someunknownPlace\")\n",
    "integers = tokenizer.encode(text, allowed_special={\"<|endoftext|>\"})\n",
    "print(integers)\n",
    "\n",
    "print(tokenizer.decode(integers))"
   ]
  },
  {
   "cell_type": "markdown",
   "id": "24ad670d-6c79-48b8-b958-68e67af3e0b0",
   "metadata": {},
   "source": [
    "## 2.6 Data Sampling With a Sliding Window"
   ]
  },
  {
   "cell_type": "code",
   "execution_count": 24,
   "id": "a8e64760-205b-4739-b72a-6d98de78b1ea",
   "metadata": {},
   "outputs": [
    {
     "name": "stdout",
     "output_type": "stream",
     "text": [
      "4690\n"
     ]
    }
   ],
   "source": [
    "with open(\"the-verdict.txt\", \"r\", encoding=\"utf-8\") as file:\n",
    "    raw_text = file.read()\n",
    "\n",
    "# Tokenize the text using the BPE tokenizer\n",
    "enc_text = tokenizer.encode(raw_text)\n",
    "print(len(enc_text))\n",
    "enc_sample = enc_text[50:]"
   ]
  },
  {
   "cell_type": "code",
   "execution_count": 25,
   "id": "f275a9ff-0f29-47a6-9310-ef5360b8d4f4",
   "metadata": {},
   "outputs": [
    {
     "name": "stdout",
     "output_type": "stream",
     "text": [
      "x: [568, 115, 1066, 727]\n",
      "y:    [115, 1066, 727, 988]\n"
     ]
    }
   ],
   "source": [
    "context_size = 4\n",
    "x = enc_sample[:context_size]\n",
    "y = enc_sample[1:context_size+1]\n",
    "print(f\"x: {x}\")\n",
    "print(f\"y:    {y}\")"
   ]
  },
  {
   "cell_type": "code",
   "execution_count": null,
   "id": "fcdd58ce-ac25-4d68-813c-33ef9a95e5e4",
   "metadata": {},
   "outputs": [],
   "source": [
    "# Let's print the input/target pair that can now be used for training the model\n",
    "for i in range(1, context_size + 1):\n",
    "    x = enc_sample[:i]\n",
    "    y = enc_sample[i]\n",
    "    print(tokenizer.decode(x), \"--->\", tokenizer.decode([y]))"
   ]
  },
  {
   "cell_type": "markdown",
   "id": "b5558a0b-23d8-437e-8b21-b2bcab9f03bd",
   "metadata": {},
   "source": [
    "## 2.6.1 Working With a DataLoader"
   ]
  },
  {
   "cell_type": "markdown",
   "id": "1883ecc9-f973-4bb0-9f6e-13c2d63dcd75",
   "metadata": {},
   "source": [
    "Implement a dataloader the converts the training set and returns the inputs and targets as tensors,"
   ]
  },
  {
   "cell_type": "code",
   "execution_count": null,
   "id": "f41b26fc-1fd2-451b-aeda-85c4c322f178",
   "metadata": {},
   "outputs": [],
   "source": [
    "import tiktoken\n",
    "from Dataset import GPTDatasetV1\n",
    "from torch.utils.data import DataLoader\n",
    "\n",
    "def create_dataloader_v1(txt, batch_size=4, max_length=256, stride=128, shuffle=True, drop_last=True, num_workers=0):\n",
    "    tokenizer = tiktoken.get_encoding(\"gpt2\")\n",
    "    dataset = GPTDatasetV1(txt, tokenizer, max_length, stride)\n",
    "    dataloader = DataLoader(\n",
    "        dataset,\n",
    "        batch_size=batch_size,\n",
    "        shuffle=shuffle,\n",
    "        drop_last=drop_last, # drop the last batch if it is shorter than the specified batch size to prevent spike losses during training\n",
    "        num_workers=num_workers\n",
    "    )\n",
    "    return dataloader"
   ]
  },
  {
   "cell_type": "code",
   "execution_count": null,
   "id": "e9112ede-8395-445a-ada6-c254077502d6",
   "metadata": {},
   "outputs": [],
   "source": [
    "# Converts teh dataloader into Python iterator to fetch the next entry using Python's next function\n",
    "dataloader = create_dataloader_v1(\n",
    "    raw_text, batch_size=1, max_length=4, stride=1, shuffle=False)\n",
    "data_iter = iter(dataloader)\n",
    "first_batch = next(data_iter)\n",
    "print(first_batch)\n",
    "second_batch = next(data_iter)\n",
    "print(second_batch)\n",
    "# Each of the tensors would contain 4 token ids since"
   ]
  },
  {
   "cell_type": "code",
   "execution_count": null,
   "id": "31c35366-adcb-4257-afad-f5f73a8cb376",
   "metadata": {},
   "outputs": [],
   "source": [
    "# Assignment 1: max_length=2, stride=2\n",
    "dataloader1 = create_dataloader_v1(\n",
    "    raw_text, batch_size=1, max_length=2, stride=2, shuffle=False)\n",
    "data_iter = iter(dataloader1)\n",
    "first_batch = next(data_iter)\n",
    "print(first_batch)\n",
    "second_batch = next(data_iter)\n",
    "print(second_batch)"
   ]
  },
  {
   "cell_type": "code",
   "execution_count": null,
   "id": "e990dbea-d14d-44c3-b5b9-5bd42d76b971",
   "metadata": {},
   "outputs": [],
   "source": [
    "# Assignement 2: max_length=8, stride 2\n",
    "dataloader2 = create_dataloader_v1(\n",
    "    raw_text, batch_size=1, max_length=8, stride=2, shuffle=False)\n",
    "data_iter = iter(dataloader2)\n",
    "first_batch = next(data_iter)\n",
    "print(first_batch)"
   ]
  },
  {
   "cell_type": "code",
   "execution_count": null,
   "id": "5b1ee8b7-c314-4dff-8bb3-dc6155c677b5",
   "metadata": {},
   "outputs": [],
   "source": [
    "second_batch = next(data_iter)\n",
    "print(second_batch)"
   ]
  },
  {
   "cell_type": "code",
   "execution_count": null,
   "id": "e118f9f9-a071-4d6e-9555-bd0e7a60b31d",
   "metadata": {},
   "outputs": [],
   "source": [
    "# Batch size greater than 1\n",
    "dataloader3 = create_dataloader_v1(raw_text, batch_size=8, max_length=4, stride=4, shuffle=False)\n",
    "data_iter3 = iter(dataloader3)\n",
    "inputs, targets = next(data_iter3)    \n",
    "print(\"Inputs:\\n\", inputs)\n",
    "print(\"\\nTargets: \\n\", targets)"
   ]
  },
  {
   "cell_type": "code",
   "execution_count": null,
   "id": "e0334948-b828-4eed-85e5-2d9a75f227a8",
   "metadata": {},
   "outputs": [],
   "source": [
    "inputs2, targets2 = next(data_iter3)\n",
    "print(\"Inputs:\\n\", inputs2)\n",
    "print(\"\\nTargets: \\n\", targets2)"
   ]
  },
  {
   "cell_type": "markdown",
   "id": "8c8755d9-e65e-4d78-aef1-e62f123a9932",
   "metadata": {},
   "source": [
    "## 2.7 Creating Token Embeddings "
   ]
  },
  {
   "cell_type": "markdown",
   "id": "08205b2f-ba62-4a99-a299-9030eb7291d0",
   "metadata": {},
   "source": [
    "We will now create an embedding layer that maps each token index (0 to vocab_size-1) to a learnable vector of size output_dim.\n",
    "This layer initializes a weight matrix of shape (vocab_size, output_dim).\n",
    "The embedding layer has 6 rows and 3 columns.\n",
    "One row for each of the 6  posdsible tokens in the vocabulary\n",
    "One column for each of the three embedding dimensions"
   ]
  },
  {
   "cell_type": "code",
   "execution_count": null,
   "id": "5c8b2fcd-ceb1-4668-b8d7-99de74c3797c",
   "metadata": {},
   "outputs": [],
   "source": [
    "import torch\n",
    "input_ids = torch.tensor([2, 3, 5, 1])\n",
    "vocab_size = 6\n",
    "output_dim = 3\n",
    "\n",
    "# we now instantiate an embedding layer using the vocab size and output dim\n",
    "torch.manual_seed(123)\n",
    "embedding_layer = torch.nn.Embedding(vocab_size, output_dim)\n",
    "print(embedding_layer.weight)"
   ]
  },
  {
   "cell_type": "code",
   "execution_count": null,
   "id": "0cfe3ca3-140e-4ac2-bd0a-ad60277b9f66",
   "metadata": {},
   "outputs": [],
   "source": [
    "print(embedding_layer(torch.tensor([3])))\n",
    "print(embedding_layer(input_ids))"
   ]
  },
  {
   "cell_type": "markdown",
   "id": "6b2afdd7-a22e-4c62-8fab-aea0ae6ae942",
   "metadata": {},
   "source": [
    "## 2.8 Encoding Word Positions"
   ]
  },
  {
   "cell_type": "markdown",
   "id": "a8dc6fc5-f0eb-4f9c-b26b-2fdec17f7399",
   "metadata": {},
   "source": [
    "The issue with the embedding layer we introduces is that the the self-attention mechnism of LLMs\n",
    "does not have a notion of position or order for the tokens within a sequence.\n",
    "This means that the same token id would always map to the same vector representation regardless of where the \n",
    "token id is positioned in the input sequence."
   ]
  },
  {
   "cell_type": "markdown",
   "id": "04836059-a8c8-4afe-9870-d1984c2793b7",
   "metadata": {},
   "source": [
    "### Positional Embedding\n",
    "It's based on relative postion, that is the distance between tokens\n",
    "\n",
    "### Absolute Positional Embedding\n",
    "a unique positional embedding is added to the token embedding vector. It would have the same dimension as the parent embedding"
   ]
  },
  {
   "cell_type": "code",
   "execution_count": null,
   "id": "e674da7d-e879-40af-a664-007f270f555e",
   "metadata": {},
   "outputs": [],
   "source": [
    "vocab_size = 50257\n",
    "output_dim = 256\n",
    "token_embedding_layer = torch.nn.Embedding(vocab_size, output_dim)"
   ]
  },
  {
   "cell_type": "code",
   "execution_count": null,
   "id": "89b50715-26b5-40be-aa4a-8ef205caeb22",
   "metadata": {},
   "outputs": [],
   "source": [
    "max_length = 4\n",
    "dataloader = create_dataloader_v1(\n",
    "    raw_text, batch_size=8, max_length=max_length, stride=max_length, shuffle=False)\n",
    "data_iter = iter(dataloader)\n",
    "inputs, targets = next(data_iter)\n",
    "print(\"Token Ids \\n\", inputs)\n",
    "print(\"\\n Input Shape: \\n\", inputs.shape)"
   ]
  },
  {
   "cell_type": "markdown",
   "id": "d6c45a42-8608-4949-9653-39166fdabb4c",
   "metadata": {},
   "source": [
    "Here we can see that the token id inputs has a shape of 8 by 4. This means that each data batch consists\n",
    "of 8 text samples with 4 tokens each."
   ]
  },
  {
   "cell_type": "code",
   "execution_count": null,
   "id": "8c06c1f3-9a49-422e-ae0c-dd1fc621259a",
   "metadata": {},
   "outputs": [],
   "source": [
    "### We now use the embedding layer to embed the token ids into 256 vectors\n",
    "token_embeddings = token_embedding_layer(inputs)\n",
    "print(token_embeddings.shape)"
   ]
  },
  {
   "cell_type": "code",
   "execution_count": null,
   "id": "822fa9a4-0573-466c-b95e-c7a2bc8cef41",
   "metadata": {},
   "outputs": [],
   "source": [
    "# To implement absolute positional embedding, we would need to create another embedding layer\n",
    "#that has the same dimension as the token_embedding_layer\n",
    "context_length = max_length\n",
    "pos_embedding_layer = torch.nn.Embedding(context_length, output_dim)\n",
    "pos_embeddings = pos_embedding_layer(torch.arange(context_length))\n",
    "print(pos_embeddings.shape)"
   ]
  },
  {
   "cell_type": "code",
   "execution_count": null,
   "id": "e56953cf-75d7-40e8-b2f3-f0e52200c5b9",
   "metadata": {},
   "outputs": [],
   "source": [
    "# Now we can can add this to the token embeddings\n",
    "input_embeddings = token_embeddings + pos_embeddings\n",
    "print(input_embeddings.shape)"
   ]
  }
 ],
 "metadata": {
  "kernelspec": {
   "display_name": "Python 3 (ipykernel)",
   "language": "python",
   "name": "python3"
  },
  "language_info": {
   "codemirror_mode": {
    "name": "ipython",
    "version": 3
   },
   "file_extension": ".py",
   "mimetype": "text/x-python",
   "name": "python",
   "nbconvert_exporter": "python",
   "pygments_lexer": "ipython3",
   "version": "3.8.5"
  }
 },
 "nbformat": 4,
 "nbformat_minor": 5
}
